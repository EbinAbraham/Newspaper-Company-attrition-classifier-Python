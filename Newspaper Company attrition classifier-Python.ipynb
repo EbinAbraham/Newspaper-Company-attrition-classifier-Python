{
  "nbformat": 4,
  "nbformat_minor": 0,
  "metadata": {
    "colab": {
      "name": "NEWS PUBLISHING COMPANY-CLASSIFICATION-ATTRITION.ipynb",
      "version": "0.3.2",
      "provenance": [],
      "collapsed_sections": []
    },
    "kernelspec": {
      "display_name": "Python 3",
      "language": "python",
      "name": "python3"
    }
  },
  "cells": [
    {
      "metadata": {
        "id": "jv2If6QdKk12",
        "colab_type": "code",
        "colab": {}
      },
      "cell_type": "code",
      "source": [
        "import pandas as pd\n",
        "import numpy as np\n",
        "#import matplotlib.pyplot as plt\n",
        "#import seaborn as sns"
      ],
      "execution_count": 0,
      "outputs": []
    },
    {
      "metadata": {
        "id": "CjMu7MbLKk18",
        "colab_type": "text"
      },
      "cell_type": "markdown",
      "source": [
        "**Importing Data**"
      ]
    },
    {
      "metadata": {
        "id": "aAwhtc3RKk1-",
        "colab_type": "code",
        "colab": {
          "base_uri": "https://localhost:8080/",
          "height": 54
        },
        "outputId": "36482a2c-cbfe-4bdf-b1dc-084b5774c096"
      },
      "cell_type": "code",
      "source": [
        "# For normal inputting data if running on local System\n",
        "\n",
        "df1= pd.read_csv('complaints.txt',sep=';')\n",
        "df2= pd.read_csv('credit.txt',sep=';')\n",
        "df3= pd.read_csv('customers.txt',sep=';')\n",
        "df4= pd.read_csv('delivery.txt',sep=';')\n",
        "df5= pd.read_csv('formula.txt',sep=';')\n",
        "df6= pd.read_csv('subscriptions.txt',delim_whitespace=True)"
      ],
      "execution_count": 3,
      "outputs": [
        {
          "output_type": "execute_result",
          "data": {
            "text/plain": [
              "\"\\ndf1= pd.read_csv('complaints.txt',sep=';')\\ndf2= pd.read_csv('credit.txt',sep=';')\\ndf3= pd.read_csv('customers.txt',sep=';')\\ndf4= pd.read_csv('delivery.txt',sep=';')\\ndf5= pd.read_csv('formula.txt',sep=';')\\ndf6= pd.read_csv('subscriptions.txt',delim_whitespace=True)\""
            ]
          },
          "metadata": {
            "tags": []
          },
          "execution_count": 3
        }
      ]
    },
    {
      "metadata": {
        "id": "qMNtLgZBKk2C",
        "colab_type": "code",
        "colab": {
          "resources": {
            "http://localhost:8080/nbextensions/google.colab/files.js": {
              "data": "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",
              "ok": true,
              "headers": [
                [
                  "content-type",
                  "application/javascript"
                ]
              ],
              "status": 200,
              "status_text": ""
            }
          },
          "base_uri": "https://localhost:8080/",
          "height": 350
        },
        "outputId": "40d10ceb-266a-42ce-cf95-c392fdeccbf6"
      },
      "cell_type": "code",
      "source": [
        "# For inputting data to Google Colab\n",
        "\n",
        "from google.colab import files\n",
        "import io\n",
        "\n",
        "uploaded=files.upload()\n",
        "df11 = pd.read_csv(io.StringIO(uploaded['complaints.txt'].decode('utf-8')),sep=';')\n",
        "\n",
        "uploaded=files.upload()\n",
        "df21 = pd.read_csv(io.StringIO(uploaded['credit.txt'].decode('utf-8')),sep=';')\n",
        "\n",
        "uploaded=files.upload()\n",
        "df31 = pd.read_csv(io.StringIO(uploaded['customers.txt'].decode('utf-8')),sep=';')\n",
        "\n",
        "uploaded=files.upload()\n",
        "df41 = pd.read_csv(io.StringIO(uploaded['delivery.txt'].decode('utf-8')),sep=';')\n",
        "\n",
        "uploaded=files.upload()\n",
        "df51 = pd.read_csv(io.StringIO(uploaded['formula.txt'].decode('utf-8')),sep=';')\n",
        "\n",
        "uploaded=files.upload()\n",
        "df61 = pd.read_csv(io.StringIO(uploaded['subscriptions.txt'].decode('utf-8')),delim_whitespace=True)"
      ],
      "execution_count": 5,
      "outputs": [
        {
          "output_type": "display_data",
          "data": {
            "text/html": [
              "\n",
              "     <input type=\"file\" id=\"files-611af64e-61d2-4e40-8deb-f28b09c00024\" name=\"files[]\" multiple disabled />\n",
              "     <output id=\"result-611af64e-61d2-4e40-8deb-f28b09c00024\">\n",
              "      Upload widget is only available when the cell has been executed in the\n",
              "      current browser session. Please rerun this cell to enable.\n",
              "      </output>\n",
              "      <script src=\"/nbextensions/google.colab/files.js\"></script> "
            ],
            "text/plain": [
              "<IPython.core.display.HTML object>"
            ]
          },
          "metadata": {
            "tags": []
          }
        },
        {
          "output_type": "stream",
          "text": [
            "Saving complaints.txt to complaints (4).txt\n"
          ],
          "name": "stdout"
        },
        {
          "output_type": "display_data",
          "data": {
            "text/html": [
              "\n",
              "     <input type=\"file\" id=\"files-2ff38099-160b-49ef-9449-181336699d20\" name=\"files[]\" multiple disabled />\n",
              "     <output id=\"result-2ff38099-160b-49ef-9449-181336699d20\">\n",
              "      Upload widget is only available when the cell has been executed in the\n",
              "      current browser session. Please rerun this cell to enable.\n",
              "      </output>\n",
              "      <script src=\"/nbextensions/google.colab/files.js\"></script> "
            ],
            "text/plain": [
              "<IPython.core.display.HTML object>"
            ]
          },
          "metadata": {
            "tags": []
          }
        },
        {
          "output_type": "stream",
          "text": [
            "Saving credit.txt to credit (4).txt\n"
          ],
          "name": "stdout"
        },
        {
          "output_type": "display_data",
          "data": {
            "text/html": [
              "\n",
              "     <input type=\"file\" id=\"files-4647738c-6b98-4cb8-8fb0-c505c2b72a9c\" name=\"files[]\" multiple disabled />\n",
              "     <output id=\"result-4647738c-6b98-4cb8-8fb0-c505c2b72a9c\">\n",
              "      Upload widget is only available when the cell has been executed in the\n",
              "      current browser session. Please rerun this cell to enable.\n",
              "      </output>\n",
              "      <script src=\"/nbextensions/google.colab/files.js\"></script> "
            ],
            "text/plain": [
              "<IPython.core.display.HTML object>"
            ]
          },
          "metadata": {
            "tags": []
          }
        },
        {
          "output_type": "stream",
          "text": [
            "Saving customers.txt to customers (4).txt\n"
          ],
          "name": "stdout"
        },
        {
          "output_type": "display_data",
          "data": {
            "text/html": [
              "\n",
              "     <input type=\"file\" id=\"files-083632f5-3dc8-4e1c-9731-b009e0c37db9\" name=\"files[]\" multiple disabled />\n",
              "     <output id=\"result-083632f5-3dc8-4e1c-9731-b009e0c37db9\">\n",
              "      Upload widget is only available when the cell has been executed in the\n",
              "      current browser session. Please rerun this cell to enable.\n",
              "      </output>\n",
              "      <script src=\"/nbextensions/google.colab/files.js\"></script> "
            ],
            "text/plain": [
              "<IPython.core.display.HTML object>"
            ]
          },
          "metadata": {
            "tags": []
          }
        },
        {
          "output_type": "stream",
          "text": [
            "Saving delivery.txt to delivery (4).txt\n"
          ],
          "name": "stdout"
        },
        {
          "output_type": "display_data",
          "data": {
            "text/html": [
              "\n",
              "     <input type=\"file\" id=\"files-dfc26f48-5449-4bcf-8ef9-0fda66f04bcb\" name=\"files[]\" multiple disabled />\n",
              "     <output id=\"result-dfc26f48-5449-4bcf-8ef9-0fda66f04bcb\">\n",
              "      Upload widget is only available when the cell has been executed in the\n",
              "      current browser session. Please rerun this cell to enable.\n",
              "      </output>\n",
              "      <script src=\"/nbextensions/google.colab/files.js\"></script> "
            ],
            "text/plain": [
              "<IPython.core.display.HTML object>"
            ]
          },
          "metadata": {
            "tags": []
          }
        },
        {
          "output_type": "stream",
          "text": [
            "Saving formula.txt to formula (3).txt\n"
          ],
          "name": "stdout"
        },
        {
          "output_type": "display_data",
          "data": {
            "text/html": [
              "\n",
              "     <input type=\"file\" id=\"files-b0dc8485-ddd7-449d-bba6-e65ace2c60ab\" name=\"files[]\" multiple disabled />\n",
              "     <output id=\"result-b0dc8485-ddd7-449d-bba6-e65ace2c60ab\">\n",
              "      Upload widget is only available when the cell has been executed in the\n",
              "      current browser session. Please rerun this cell to enable.\n",
              "      </output>\n",
              "      <script src=\"/nbextensions/google.colab/files.js\"></script> "
            ],
            "text/plain": [
              "<IPython.core.display.HTML object>"
            ]
          },
          "metadata": {
            "tags": []
          }
        },
        {
          "output_type": "stream",
          "text": [
            "Saving subscriptions.txt to subscriptions (3).txt\n"
          ],
          "name": "stdout"
        }
      ]
    },
    {
      "metadata": {
        "id": "1azt4A8JKk2J",
        "colab_type": "code",
        "colab": {}
      },
      "cell_type": "code",
      "source": [
        "df1=pd.DataFrame.copy(df11)\n",
        "df2=pd.DataFrame.copy(df21)\n",
        "df3=pd.DataFrame.copy(df31)\n",
        "df4=pd.DataFrame.copy(df41)\n",
        "df5=pd.DataFrame.copy(df51)\n",
        "df6=pd.DataFrame.copy(df61)"
      ],
      "execution_count": 0,
      "outputs": []
    },
    {
      "metadata": {
        "id": "00vW_IyoKk2P",
        "colab_type": "text"
      },
      "cell_type": "markdown",
      "source": [
        "**Importing Subcription Data and aligning the data**"
      ]
    },
    {
      "metadata": {
        "id": "ySCxJEFaKk2Q",
        "colab_type": "code",
        "colab": {}
      },
      "cell_type": "code",
      "source": [
        "col=df6.columns\n",
        "df6=df6.drop('TotalCredit',axis=1)\n",
        "df6.reset_index(inplace=True)\n",
        "df6.columns=col\n",
        "\n",
        "for i in range(4,len(df6.columns)-1):\n",
        "    df6.iloc[0,i]=df6.iloc[0,i+1]\n",
        "\n",
        "for i in range(len(df6)):\n",
        "    if (df6.iloc[i,7]=='BT'):\n",
        "        for j in range(len(df6.columns)-3,6,-1):\n",
        "            df6.iloc[i,j+2]=df6.iloc[i,j]\n",
        "        df6.iloc[i,7]=np.nan\n",
        "        df6.iloc[i,8]=np.nan\n",
        "    if (df6.iloc[i,8]=='BT' or df6.iloc[i,8]=='DD'):\n",
        "        for j in range(len(df6.columns)-2,7,-1):\n",
        "            df6.iloc[i,j+1]=df6.iloc[i,j]\n",
        "        df6.iloc[i,8]=np.nan\n",
        "    if (df6.iloc[i,10]=='Not'):\n",
        "        df6.iloc[i,10]='Not Paid'\n",
        "        df6.iloc[i,11]=np.nan\n",
        "    x=str(df6.iloc[i,7])\n",
        "    if (x.rfind('/')!=-1):\n",
        "        df6.iloc[i,8]=df6.iloc[i,7]\n",
        "        df6.iloc[i,7]=np.nan\n",
        "    x=str(df6.iloc[i,12])\n",
        "    if (x.rfind('/')!=-1):\n",
        "        df6.iloc[i,12]='99999999'\n",
        "    if(type(df6.loc[i,'NetNewspaperPrice'])!=float):\n",
        "        x=str(df6.loc[i,'NetNewspaperPrice'])\n",
        "        if ((df6.loc[i,'NetNewspaperPrice'].count('.')>1)|(x.rfind('-')!=-1)):\n",
        "            df6.loc[i,'NetNewspaperPrice']=np.nan\n",
        "    if(type(df6.loc[i,'FormulaDiscount'])!=float):\n",
        "        if (df6.loc[i,'FormulaDiscount'].count('.')>1):\n",
        "            df6.loc[i,'FormulaDiscount']=np.nan\n",
        "    if(type(df6.loc[i,'TotalDiscount'])!=float):\n",
        "        if (df6.loc[i,'TotalDiscount'].count('.')>1):\n",
        "            df6.loc[i,'TotalDiscount']=np.nan\n",
        "    if(type(df6.loc[i,'ProductDiscount'])!=float):\n",
        "        if (df6.loc[i,'ProductDiscount'].count('.')>1):\n",
        "            df6.loc[i,'ProductDiscount']=np.nan\n",
        "    if(type(df6.loc[i,'TotalCredit'])!=float):\n",
        "        if (df6.loc[i,'TotalCredit'].count('.')>1):\n",
        "            df6.loc[i,'TotalCredit']=np.nan\n"
      ],
      "execution_count": 0,
      "outputs": []
    },
    {
      "metadata": {
        "id": "d51NIYYUKk2V",
        "colab_type": "code",
        "colab": {}
      },
      "cell_type": "code",
      "source": [
        "x=['NetNewspaperPrice','FormulaDiscount','TotalDiscount','ProductDiscount','TotalCredit']\n",
        "for i in x:\n",
        "    df6[i]=df6[i].astype(float)"
      ],
      "execution_count": 0,
      "outputs": []
    },
    {
      "metadata": {
        "id": "nVDadctZKk2Z",
        "colab_type": "code",
        "colab": {}
      },
      "cell_type": "code",
      "source": [
        "df6=df6.drop(df6.index[15459:15471])\n",
        "\n",
        "df6.FormulaID=df6.FormulaID.astype(int) \n",
        "df6.RenewalDate=np.where(df6.RenewalDate.isna()==True,'01/01/2099',df6.RenewalDate)\n",
        "df6.PaymentDate=np.where(df6.PaymentDate.isna()==True,'01/01/2099',df6.PaymentDate)\n",
        "\n",
        "x=['StartDate','EndDate','RenewalDate','PaymentDate']\n",
        "for i in x:\n",
        "    df6[i]=pd.to_datetime(df6[i],format='%d/%m/%Y')\n",
        "\n",
        "df4.StartDate=pd.to_datetime(df4.StartDate,format='%d/%m/%Y')        \n",
        "df4.EndDate=pd.to_datetime(df4.EndDate,format='%d/%m/%Y')    \n",
        "df3.DOB=pd.to_datetime(df3.DOB,format='%d/%m/%Y')"
      ],
      "execution_count": 0,
      "outputs": []
    },
    {
      "metadata": {
        "id": "Vdi-h1VLKk2g",
        "colab_type": "text"
      },
      "cell_type": "markdown",
      "source": [
        "**Merging the data and droping variables with high NaN value**"
      ]
    },
    {
      "metadata": {
        "id": "Hymd5hslKk2i",
        "colab_type": "code",
        "colab": {}
      },
      "cell_type": "code",
      "source": [
        "df=pd.merge(df6,df5,how='left',on='FormulaID')\n",
        "df=pd.merge(df4,df,how='left',on='SubscriptionID')\n",
        "df=pd.merge(df,df3,how='left',on='CustomerID')\n",
        "df=pd.merge(df,df2,how='left',on='SubscriptionID')\n",
        "df=pd.merge(df,df1,how='left',on=['CustomerID','ProductID'])\n",
        "\n",
        "# NetFormulaPrice, TotalPrice and GrossFormulaPrice removed due to high correlation\n",
        "df=df.drop(['FeedbackType','SolutionType','ComplaintDate','ComplaintID','ComplaintType','TotalPrice',\n",
        "            'NbrNewspapers_y','NbrStart','Amount','CreditSource','ProcessingDate','GrossFormulaPrice',\n",
        "            'ActionType','Duration','FormulaType','FormulaCode','DeliveryContext','NetFormulaPrice'],axis=1)\n",
        "\n",
        "df.NbrNewspapers_x=df.NbrNewspapers_x.astype(int)\n",
        "df['Churn']=np.where((df.RenewalDate>df.StartDate_y) & (df.RenewalDate<df.EndDate_y),0,1)"
      ],
      "execution_count": 0,
      "outputs": []
    },
    {
      "metadata": {
        "id": "9s3JQG_uJeM_",
        "colab_type": "code",
        "colab": {
          "base_uri": "https://localhost:8080/",
          "height": 554
        },
        "outputId": "e70b80fc-fd63-4f50-d473-963c7ce7afeb"
      },
      "cell_type": "code",
      "source": [
        "df.info()"
      ],
      "execution_count": 11,
      "outputs": [
        {
          "output_type": "stream",
          "text": [
            "<class 'pandas.core.frame.DataFrame'>\n",
            "Int64Index: 62344 entries, 0 to 62343\n",
            "Data columns (total 27 columns):\n",
            "SubscriptionID       62344 non-null int64\n",
            "DeliveryType         62344 non-null object\n",
            "DeliveryClass        53157 non-null object\n",
            "StartDate_x          62344 non-null datetime64[ns]\n",
            "EndDate_x            62344 non-null datetime64[ns]\n",
            "CustomerID           62344 non-null int64\n",
            "ProductID            62344 non-null float64\n",
            "Pattern              62344 non-null float64\n",
            "StartDate_y          62344 non-null datetime64[ns]\n",
            "EndDate_y            62344 non-null datetime64[ns]\n",
            "NbrNewspapers_x      62344 non-null int64\n",
            "RenewalDate          62344 non-null datetime64[ns]\n",
            "PaymentType          62344 non-null object\n",
            "PaymentStatus        62344 non-null object\n",
            "PaymentDate          62344 non-null datetime64[ns]\n",
            "FormulaID            62344 non-null int64\n",
            "NetNewspaperPrice    56330 non-null float64\n",
            "ProductDiscount      62301 non-null float64\n",
            "FormulaDiscount      59440 non-null float64\n",
            "TotalDiscount        59397 non-null float64\n",
            "TotalCredit          62310 non-null float64\n",
            "Gender               60458 non-null object\n",
            "DOB                  62344 non-null datetime64[ns]\n",
            "District             62344 non-null int64\n",
            "ZIP                  62344 non-null int64\n",
            "StreeID              62344 non-null int64\n",
            "Churn                62344 non-null int64\n",
            "dtypes: datetime64[ns](7), float64(7), int64(8), object(5)\n",
            "memory usage: 13.3+ MB\n"
          ],
          "name": "stdout"
        }
      ]
    },
    {
      "metadata": {
        "id": "A4k-PIwsKk2p",
        "colab_type": "text"
      },
      "cell_type": "markdown",
      "source": [
        "**Profiling Data**"
      ]
    },
    {
      "metadata": {
        "id": "xDhZGg2iKk2r",
        "colab_type": "code",
        "colab": {}
      },
      "cell_type": "code",
      "source": [
        "desc=df.describe().T\n",
        "desc['1%']=df.quantile(.01)\n",
        "desc['5%']=df.quantile(.05)\n",
        "desc['95%']=df.quantile(.95)\n",
        "desc['99%']=df.quantile(.99)\n",
        "desc['Q3-Q1']=desc['75%']-desc['25%']\n",
        "desc['UB']=desc['75%']+(desc['Q3-Q1']*1.5)\n",
        "desc['LB']=desc['25%']-(desc['Q3-Q1']*1.5)\n",
        "desc=desc.loc[:,['count','mean','std','min','max','1%','5%','25%','50%','75%','95%','99%','Q3-Q1','LB','UB']]\n",
        "#desc.to_csv('desc.csv')"
      ],
      "execution_count": 0,
      "outputs": []
    },
    {
      "metadata": {
        "scrolled": true,
        "id": "rm11bbxRKk2v",
        "colab_type": "text"
      },
      "cell_type": "markdown",
      "source": [
        "**Handling Missing Values**"
      ]
    },
    {
      "metadata": {
        "id": "veONLeZsKk2x",
        "colab_type": "code",
        "colab": {}
      },
      "cell_type": "code",
      "source": [
        "#Delivery Class\n",
        "col=pd.get_dummies(df['DeliveryClass'],prefix='DeliveryClass')\n",
        "df=pd.concat([df,col],axis=1)\n",
        "df=df.drop('DeliveryClass',axis=1)\n",
        "\n",
        "#NetNewspaperPrice\n",
        "df.NetNewspaperPrice=df.NetNewspaperPrice.fillna(df.NetNewspaperPrice.median())\n",
        "\n",
        "#TotalDiscount\n",
        "df.TotalDiscount=df.TotalDiscount.fillna(df.TotalDiscount.mode())\n",
        "\n",
        "#FormulaDiscount\n",
        "df.FormulaDiscount=df.FormulaDiscount.fillna(df.FormulaDiscount.mode())\n",
        "\n",
        "#Gender\n",
        "df=df.dropna()\n",
        "df.reset_index(drop=True,inplace=True)"
      ],
      "execution_count": 0,
      "outputs": []
    },
    {
      "metadata": {
        "id": "kuMEl05DKk24",
        "colab_type": "text"
      },
      "cell_type": "markdown",
      "source": [
        "**Removing Outliers**"
      ]
    },
    {
      "metadata": {
        "id": "IF2-4ap6Kk25",
        "colab_type": "code",
        "colab": {}
      },
      "cell_type": "code",
      "source": [
        "#NbrNewspapers_x\n",
        "df['NbrNewspapers_x']=np.clip(df['NbrNewspapers_x'],desc.loc['NbrNewspapers_x','1%'],desc.loc['NbrNewspapers_x','99%'])\n",
        "\n",
        "#NetNewspaperPrice\n",
        "df['NetNewspaperPrice']=np.clip(df['NetNewspaperPrice'],desc.loc['NetNewspaperPrice','1%'],desc.loc['NetNewspaperPrice','99%'])\n",
        "\n",
        "#TotalCredit\n",
        "df['TotalCredit']=df['TotalCredit'].clip_lower(desc.loc['TotalCredit','1%'])"
      ],
      "execution_count": 0,
      "outputs": []
    },
    {
      "metadata": {
        "id": "ayYfhmj2Kk29",
        "colab_type": "text"
      },
      "cell_type": "markdown",
      "source": [
        "**Preprocessing-Label Encoding and dummy variable**"
      ]
    },
    {
      "metadata": {
        "id": "Jk2oIKA4Kk2-",
        "colab_type": "code",
        "colab": {}
      },
      "cell_type": "code",
      "source": [
        "from sklearn.preprocessing import LabelEncoder\n",
        "\n",
        "lc=LabelEncoder()\n",
        "df['Gender']=lc.fit_transform(df['Gender'])\n",
        "df['PaymentStatus']=lc.fit_transform(df['PaymentStatus'])\n",
        "df['PaymentType']=lc.fit_transform(df['PaymentType'])"
      ],
      "execution_count": 0,
      "outputs": []
    },
    {
      "metadata": {
        "id": "Yn70YXJDKk3E",
        "colab_type": "code",
        "colab": {}
      },
      "cell_type": "code",
      "source": [
        "#DeliveryType\n",
        "col=pd.get_dummies(df['DeliveryType'],prefix='DeliveryType')\n",
        "col=col.drop(col.columns[0],axis=1)\n",
        "df=pd.concat([df,col],axis=1)\n",
        "df=df.drop('DeliveryType',axis=1)\n",
        "\n",
        "#District\n",
        "col=pd.get_dummies(df['District'],prefix='District')\n",
        "col=col.drop(col.columns[0],axis=1)\n",
        "df=pd.concat([df,col],axis=1)\n",
        "df=df.drop('District',axis=1)"
      ],
      "execution_count": 0,
      "outputs": []
    },
    {
      "metadata": {
        "id": "p_pnVmcLKk3I",
        "colab_type": "code",
        "colab": {}
      },
      "cell_type": "code",
      "source": [
        "df=df.drop_duplicates()\n",
        "df=df.reset_index(drop=True)"
      ],
      "execution_count": 0,
      "outputs": []
    },
    {
      "metadata": {
        "id": "eyOTjZLOKk3N",
        "colab_type": "code",
        "colab": {}
      },
      "cell_type": "code",
      "source": [
        "#Converting Timestamp to ordinal\n",
        "\n",
        "for i in range(len(df)):\n",
        "    df.loc[i,'DOB']=df.loc[i,'DOB'].toordinal()\n",
        "    df.loc[i,'RenewalDate']=df.loc[i,'RenewalDate'].toordinal()\n",
        "    df.loc[i,'PaymentDate']=df.loc[i,'PaymentDate'].toordinal()\n",
        "    df.loc[i,'StartDate_x']=df.loc[i,'StartDate_x'].toordinal()\n",
        "    df.loc[i,'StartDate_y']=df.loc[i,'StartDate_y'].toordinal()\n",
        "    df.loc[i,'EndDate_x']=df.loc[i,'EndDate_x'].toordinal()\n",
        "    df.loc[i,'EndDate_y']=df.loc[i,'EndDate_y'].toordinal()    "
      ],
      "execution_count": 0,
      "outputs": []
    },
    {
      "metadata": {
        "id": "oF9NzDk5Kk3S",
        "colab_type": "code",
        "colab": {}
      },
      "cell_type": "code",
      "source": [
        "#Splitting Output Variable\n",
        "\n",
        "y=df['Churn']\n",
        "df.drop('Churn',axis=1,inplace=True)"
      ],
      "execution_count": 0,
      "outputs": []
    },
    {
      "metadata": {
        "id": "Q_fb09_EKk3Z",
        "colab_type": "text"
      },
      "cell_type": "markdown",
      "source": [
        "**Splitting data into Train and test**"
      ]
    },
    {
      "metadata": {
        "id": "hdnG9X9_Kk3b",
        "colab_type": "code",
        "colab": {}
      },
      "cell_type": "code",
      "source": [
        "from sklearn.model_selection import train_test_split\n",
        "\n",
        "x_train,x_test,y_train,y_test=train_test_split(df,y,test_size=0.2,random_state=0)"
      ],
      "execution_count": 0,
      "outputs": []
    },
    {
      "metadata": {
        "id": "g8EULOGcKk3m",
        "colab_type": "text"
      },
      "cell_type": "markdown",
      "source": [
        "**Model 1: Logistic Regression**"
      ]
    },
    {
      "metadata": {
        "id": "N9RUP8zFKk3n",
        "colab_type": "code",
        "colab": {
          "base_uri": "https://localhost:8080/",
          "height": 84
        },
        "outputId": "0c204f95-5e2d-4b32-e466-3263d5b1813a"
      },
      "cell_type": "code",
      "source": [
        "from sklearn.linear_model import LogisticRegression\n",
        "\n",
        "model=LogisticRegression(random_state=0,C=10,penalty='l1'n_jobs=-1)\n",
        "model.fit(x_train,y_train)"
      ],
      "execution_count": 42,
      "outputs": [
        {
          "output_type": "execute_result",
          "data": {
            "text/plain": [
              "LogisticRegression(C=10, class_weight=None, dual=False, fit_intercept=True,\n",
              "          intercept_scaling=1, max_iter=100, multi_class='ovr', n_jobs=1,\n",
              "          penalty='l1', random_state=0, solver='liblinear', tol=0.0001,\n",
              "          verbose=0, warm_start=False)"
            ]
          },
          "metadata": {
            "tags": []
          },
          "execution_count": 42
        }
      ]
    },
    {
      "metadata": {
        "id": "VjW96c1KKk3t",
        "colab_type": "code",
        "colab": {}
      },
      "cell_type": "code",
      "source": [
        "# Predicting Output\n",
        "\n",
        "ypred=model.predict(x_test)"
      ],
      "execution_count": 0,
      "outputs": []
    },
    {
      "metadata": {
        "id": "VSmPbrWtKk3x",
        "colab_type": "code",
        "colab": {}
      },
      "cell_type": "code",
      "source": [
        "from sklearn.metrics import roc_auc_score\n",
        "from sklearn.metrics import accuracy_score,confusion_matrix,f1_score\n",
        "from sklearn.model_selection import cross_val_score\n",
        "from sklearn.metrics import average_precision_score\n",
        "\n",
        "\n",
        "cv_acc=cross_val_score(estimator=model,X=x_train,y=y_train,cv=10)\n",
        "cm=confusion_matrix(y_test,ypred)\n",
        "cv_acc=cv_acc.mean()\n",
        "acc=accuracy_score(y_test,ypred)\n",
        "acc1=f1_score(y_test,ypred,average='binary')\n",
        "auc = roc_auc_score(y_test,ypred)\n",
        "aps=average_precision_score(y_test,ypred)"
      ],
      "execution_count": 0,
      "outputs": []
    },
    {
      "metadata": {
        "scrolled": true,
        "id": "n34UnGGTKk31",
        "colab_type": "code",
        "colab": {
          "base_uri": "https://localhost:8080/",
          "height": 319
        },
        "outputId": "189c6e93-e0e1-4012-abcf-5a350600e3db"
      },
      "cell_type": "code",
      "source": [
        "print('Confusion Matrix\\n',cm)\n",
        "print('\\nCross Validation Score\\n',cv_acc)\n",
        "print('\\nTesting Accuracy\\n',acc)\n",
        "print('\\nF1 Score\\n',acc1)\n",
        "print('\\nAUC\\n',auc)\n",
        "print('\\nAverage Precision Score\\n',aps)"
      ],
      "execution_count": 45,
      "outputs": [
        {
          "output_type": "stream",
          "text": [
            "Confusion Matrix\n",
            " [[3373   42]\n",
            " [  84 1292]]\n",
            "\n",
            "Cross Validation Score\n",
            " 0.9732814143075588\n",
            "\n",
            "Testing Accuracy\n",
            " 0.9737006887914841\n",
            "\n",
            "F1 Score\n",
            " 0.9535055350553505\n",
            "\n",
            "AUC\n",
            " 0.9633274030440262\n",
            "\n",
            "Average Precision Score\n",
            " 0.9269241087542611\n"
          ],
          "name": "stdout"
        }
      ]
    },
    {
      "metadata": {
        "id": "ZFuy_CCoKk36",
        "colab_type": "text"
      },
      "cell_type": "markdown",
      "source": [
        "__Model 2: Randomforest Classifier__"
      ]
    },
    {
      "metadata": {
        "id": "NXzePeucKk39",
        "colab_type": "code",
        "colab": {
          "base_uri": "https://localhost:8080/",
          "height": 118
        },
        "outputId": "c84ca873-d39e-4aef-d22c-0c81ef9aa926"
      },
      "cell_type": "code",
      "source": [
        "from sklearn.ensemble import RandomForestClassifier\n",
        "\n",
        "model1=RandomForestClassifier(random_state=0,n_jobs=-1,n_estimators=90)\n",
        "model1.fit(x_train,y_train)"
      ],
      "execution_count": 37,
      "outputs": [
        {
          "output_type": "execute_result",
          "data": {
            "text/plain": [
              "RandomForestClassifier(bootstrap=True, class_weight=None, criterion='gini',\n",
              "            max_depth=None, max_features='auto', max_leaf_nodes=None,\n",
              "            min_impurity_decrease=0.0, min_impurity_split=None,\n",
              "            min_samples_leaf=1, min_samples_split=2,\n",
              "            min_weight_fraction_leaf=0.0, n_estimators=90, n_jobs=-1,\n",
              "            oob_score=False, random_state=0, verbose=0, warm_start=False)"
            ]
          },
          "metadata": {
            "tags": []
          },
          "execution_count": 37
        }
      ]
    },
    {
      "metadata": {
        "id": "wfKG7qZaKk4B",
        "colab_type": "code",
        "colab": {}
      },
      "cell_type": "code",
      "source": [
        "# Predicting Output\n",
        "\n",
        "ypred1=model1.predict(x_test)"
      ],
      "execution_count": 0,
      "outputs": []
    },
    {
      "metadata": {
        "id": "EsnF4-hdKk4F",
        "colab_type": "code",
        "colab": {}
      },
      "cell_type": "code",
      "source": [
        "from sklearn.metrics import roc_auc_score\n",
        "from sklearn.metrics import accuracy_score,confusion_matrix,f1_score\n",
        "from sklearn.model_selection import cross_val_score\n",
        "from sklearn.metrics import average_precision_score\n",
        "\n",
        "cv_acc=cross_val_score(estimator=model1,X=x_train,y=y_train,cv=5)\n",
        "cm=confusion_matrix(y_test,ypred1)\n",
        "cv_acc=cv_acc.mean()\n",
        "acc=accuracy_score(y_test,ypred1)\n",
        "acc1=f1_score(y_test,ypred1,average='binary')\n",
        "auc = roc_auc_score(y_test,ypred1)\n",
        "aps=average_precision_score(y_test,ypred1)"
      ],
      "execution_count": 0,
      "outputs": []
    },
    {
      "metadata": {
        "id": "ggW7jwnxKk4K",
        "colab_type": "code",
        "colab": {
          "base_uri": "https://localhost:8080/",
          "height": 319
        },
        "outputId": "92fda2ee-7bfe-411a-a0a4-dc8a106c653d"
      },
      "cell_type": "code",
      "source": [
        "print('Confusion Matrix\\n',cm)\n",
        "print('\\nCross Validation Score\\n',cv_acc)\n",
        "print('\\nTesting Accuracy\\n',acc)\n",
        "print('\\nF1 Score\\n',acc1)\n",
        "print('\\nAUC\\n',auc)\n",
        "print('\\nAverage Precision Score\\n',aps)"
      ],
      "execution_count": 40,
      "outputs": [
        {
          "output_type": "stream",
          "text": [
            "Confusion Matrix\n",
            " [[3396   19]\n",
            " [  33 1343]]\n",
            "\n",
            "Cross Validation Score\n",
            " 0.988310746868714\n",
            "\n",
            "Testing Accuracy\n",
            " 0.9891463160091839\n",
            "\n",
            "F1 Score\n",
            " 0.9810080350620891\n",
            "\n",
            "AUC\n",
            " 0.98522687612789\n",
            "\n",
            "Average Precision Score\n",
            " 0.9692898417262321\n"
          ],
          "name": "stdout"
        }
      ]
    },
    {
      "metadata": {
        "id": "WpYuu5Tv18uB",
        "colab_type": "text"
      },
      "cell_type": "markdown",
      "source": [
        "__ Hence from the analysis RandomForest Classifier provides better result.Therefore we will use randomforest classifier above logistic regression.__\n"
      ]
    }
  ]
}